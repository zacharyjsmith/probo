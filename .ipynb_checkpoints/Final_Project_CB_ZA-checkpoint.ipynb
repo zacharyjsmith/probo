{
 "cells": [
  {
   "cell_type": "markdown",
   "metadata": {},
   "source": [
    "# Final Project\n",
    "## Carson Bessinger and Zachary Smith\n",
    "### FIN5350\n",
    "### December 12, 2018\n"
   ]
  },
  {
   "cell_type": "code",
   "execution_count": 1,
   "metadata": {},
   "outputs": [],
   "source": [
    "import pandas as pd\n",
    "from probo.marketdata import MarketData\n",
    "from probo.payoff import ExoticPayoff, arithmeticAsianCallPayoff, arithmeticAsianPutPayoff\n",
    "from probo.engine import MonteCarloEngine, AsianCallControlVariate, NaiveAsianCall, NaiveMonteCarloPricer\n",
    "from probo.facade import OptionFacade\n",
    "import time"
   ]
  },
  {
   "cell_type": "code",
   "execution_count": 2,
   "metadata": {},
   "outputs": [],
   "source": [
    "## Set up the market data\n",
    "spot = 100.0\n",
    "rate = 0.06\n",
    "volatility = 0.2\n",
    "dividend = 0.03\n",
    "thedata = MarketData(rate, spot, volatility, dividend)\n",
    "\n",
    "## Set up the option\n",
    "expiry = 1.0\n",
    "strike = 100.0\n",
    "thecall = ExoticPayoff(expiry, strike, arithmeticAsianCallPayoff)\n",
    "\n",
    "\n",
    "## Set up Naive Monte Carlo\n",
    "nreps = 10000\n",
    "steps = 10\n",
    "pricer = AsianCallControlVariate\n",
    "mcengine = MonteCarloEngine(nreps, steps, pricer)\n",
    "\n",
    "#pricer2 = NaiveMonteCarloPricer\n",
    "pricer2 = NaiveAsianCall\n",
    "mcengine2 = MonteCarloEngine(nreps, steps, pricer2)\n",
    "\n",
    "## Calculate the price\n",
    "option1 = OptionFacade(thecall, mcengine, thedata)\n",
    "start1 = time.clock()\n",
    "price1,se1 = option1.price()\n",
    "elapsed1 = (time.clock() - start1)\n",
    "\n",
    "## Calculate the price\n",
    "option2 = OptionFacade(thecall, mcengine2, thedata)\n",
    "start2 = time.clock()\n",
    "price2,se2 = option2.price()\n",
    "elapsed2 = (time.clock() - start2)"
   ]
  },
  {
   "cell_type": "code",
   "execution_count": 4,
   "metadata": {},
   "outputs": [
    {
     "data": {
      "text/html": [
       "<div>\n",
       "<style scoped>\n",
       "    .dataframe tbody tr th:only-of-type {\n",
       "        vertical-align: middle;\n",
       "    }\n",
       "\n",
       "    .dataframe tbody tr th {\n",
       "        vertical-align: top;\n",
       "    }\n",
       "\n",
       "    .dataframe thead th {\n",
       "        text-align: right;\n",
       "    }\n",
       "</style>\n",
       "<table border=\"1\" class=\"dataframe\">\n",
       "  <thead>\n",
       "    <tr style=\"text-align: right;\">\n",
       "      <th></th>\n",
       "      <th>price</th>\n",
       "      <th>SE</th>\n",
       "      <th>Time</th>\n",
       "    </tr>\n",
       "  </thead>\n",
       "  <tbody>\n",
       "    <tr>\n",
       "      <th>Control Variate Asian Call</th>\n",
       "      <td>4.084</td>\n",
       "      <td>0.0035</td>\n",
       "      <td>1.2608</td>\n",
       "    </tr>\n",
       "    <tr>\n",
       "      <th>Naive Asian Call</th>\n",
       "      <td>5.028</td>\n",
       "      <td>0.0740</td>\n",
       "      <td>0.9072</td>\n",
       "    </tr>\n",
       "  </tbody>\n",
       "</table>\n",
       "</div>"
      ],
      "text/plain": [
       "                            price      SE    Time\n",
       "Control Variate Asian Call  4.084  0.0035  1.2608\n",
       "Naive Asian Call            5.028  0.0740  0.9072"
      ]
     },
     "execution_count": 4,
     "metadata": {},
     "output_type": "execute_result"
    }
   ],
   "source": [
    "data = {\"price\": [\"{0:.3f}\".format(price1),\"{0:.3f}\".format(price2)],\n",
    "        \"SE\": [\"{0:.4f}\".format(se1),\"{0:.4f}\".format(se2)],\n",
    "       \"Time\": [\"{0:.4f}\".format(elapsed1),\"{0:.4f}\".format(elapsed2)]\n",
    "       }\n",
    "df = pd.DataFrame(data, index = [\"Control Variate Asian Call\",\"Naive Asian Call\"])\n",
    "df\n"
   ]
  },
  {
   "cell_type": "code",
   "execution_count": null,
   "metadata": {},
   "outputs": [],
   "source": []
  }
 ],
 "metadata": {
  "kernelspec": {
   "display_name": "Python 3",
   "language": "python",
   "name": "python3"
  },
  "language_info": {
   "codemirror_mode": {
    "name": "ipython",
    "version": 3
   },
   "file_extension": ".py",
   "mimetype": "text/x-python",
   "name": "python",
   "nbconvert_exporter": "python",
   "pygments_lexer": "ipython3",
   "version": "3.6.5"
  }
 },
 "nbformat": 4,
 "nbformat_minor": 2
}
